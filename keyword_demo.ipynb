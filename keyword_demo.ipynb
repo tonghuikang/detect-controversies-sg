{
 "cells": [
  {
   "cell_type": "markdown",
   "metadata": {},
   "source": [
    "This is meant to be a proof of concept. While this may point to Quora questions where some debate can happen, I understand that people's beliefs are pretty much unchanged already.\n",
    "\n",
    "I hope that this could be scalable. Probably with little input controversies can be registered in the system and be used to detect whenever it happens. "
   ]
  },
  {
   "cell_type": "code",
   "execution_count": 1,
   "metadata": {},
   "outputs": [],
   "source": [
    "import spacy\n",
    "nlp = spacy.load('en')"
   ]
  },
  {
   "cell_type": "code",
   "execution_count": 2,
   "metadata": {},
   "outputs": [],
   "source": [
    "article_text = '''\n",
    "S$1.54 million-a-year for reading essay. How much further useless can Halimah Yacob get?\n",
    "\n",
    "With her eyes glued on the scripts, Indian-turned-Malay President Halimah Yacob obediently read on live TV her first speech in Parliament as Singapore President. The “independent” President’s speech, written by the PAP Ministers, is as best a load of hot air, waxing lyrical about leadership, equality, meritocracy and a “bright future”.\n",
    "\n",
    "“Singapore is not yet done with nation building and its fourth-generation of leaders must “fire up and mobilise” young Singaporeans, who are eager to take up the challenge of doing so. As a new generation of Singaporeans come of age with their own dreams, hopes and fears, the 4G leaders will have to work with them to respond to the challenges of their times. They dream of a bright future, and pour their energies into exploring fresh horizons and building a better world. They want to see their parents age well.”\n",
    "\n",
    "There you have it, the audacity of Halimah Yacob mentioning about “ageing well”. The ignorant PAP crony probably knew nothing about Singaporean elderly not being able to retire because their CPF money are stuck with Temasek Holdings and GIC. When compared to other private and public superannuation and retirement funds, Singapore’s CPF system have the lowest interest rate return of 2.5%. CPF”s retirement fund withdrawal age of 63 is one of the oldest in the world, and the Minimum Sum of S$181,000 is outright extortion. Halimah Yacob must be really shameless to be talking about “ageing well”, when she is not even doing her due diligence finding out how much money are there left in the reserves and CPF.\n",
    "\n",
    "“They hope for a fairer and more equal society. As proud Singaporeans, they want to see this small island nation stand tall amongst the community of nations.”\n",
    "\n",
    "With a GINI coefficient of 0.459, Singapore has an income inequality just only second to Mexico when compared with OECD nations. According to recent official statistics, the demand for rental housing and subsidised healthcare have risen. Although the government deliberately avoided setting a poverty line, more than 50% of the households earn below half the median income of S$4,232. The claim that Singapore is an equal society is just far fetch.\n",
    "\n",
    "“The 4G leaders should marshall the spirit and energy of these young Singaporeans. To do so, they must grow with the people they represent, be open to diverse views and ideas and have a clear purpose and unity of action, said the President.”\n",
    "\n",
    "President Halimah Yacob then called for the PAP government to be open to diverse views and ideas, which is by far the most hypocritical section in her speech. One just need to be reminded of the Select Committee on Online Falsehoods, where Law Minister K Shanmugam smacked down criticisms and even began a barrage of personal attacks after the public hearing. Social media companies like Facebook were accused of propagating fake news and an Oxford historian was smeared as a Holocaust denier. How open is that.\n",
    "\n",
    "You may read the rest of Halimah Yacob’s garbage below:\n",
    "\n",
    "“We may be tempted not to go for bold changes, but instead be content to tweak things at the margins. The new leaders may feel that there is more to lose now, given that Singapore is at a more advanced stage of development. That would be the wrong approach. Be careful of settling for mediocrity, the country has a lot going for it as a vibrant node in Asia and a harmonious multi-cultural society. We need to keep alive the spirit of our pioneers and be constantly driven to do better, with each generation surpassing the previous.”\n",
    "\n",
    "State media Straits Times is controlled by the government.\n",
    "'''"
   ]
  },
  {
   "cell_type": "code",
   "execution_count": 3,
   "metadata": {},
   "outputs": [
    {
     "name": "stdout",
     "output_type": "stream",
     "text": [
      "'\\nS$1.54 million-a-year for reading essay. How much further useless can Halimah Yacob get?\\n\\nWith her eyes glued on the scripts, Indian-turned-Malay President Halimah Yacob obediently read on live TV her first speech in Parliament as Singapore President. The “independent” President’s speech, written by the PAP Ministers, is as best a load of hot air, waxing lyrical about leadership, equality, meritocracy and a “bright future”.\\n\\n“Singapore is not yet done with nation building and its fourth-generation of leaders must “fire up and mobilise” young Singaporeans, who are eager to take up the challenge of doing so. As a new generation of Singaporeans come of age with their own dreams, hopes and fears, the 4G leaders will have to work with them to respond to the challenges of their times. They dream of a bright future, and pour their energies into exploring fresh horizons and building a better world. They want to see their parents age well.”\\n\\nThere you have it, the audacity of Halimah Yacob mentioning about “ageing well”. The ignorant PAP crony probably knew nothing about Singaporean elderly not being able to retire because their CPF money are stuck with Temasek Holdings and GIC. When compared to other private and public superannuation and retirement funds, Singapore’s CPF system have the lowest interest rate return of 2.5%. CPF”s retirement fund withdrawal age of 63 is one of the oldest in the world, and the Minimum Sum of S$181,000 is outright extortion. Halimah Yacob must be really shameless to be talking about “ageing well”, when she is not even doing her due diligence finding out how much money are there left in the reserves and CPF.\\n\\n“They hope for a fairer and more equal society. As proud Singaporeans, they want to see this small island nation stand tall amongst the community of nations.”\\n\\nWith a GINI coefficient of 0.459, Singapore has an income inequality just only second to Mexico when compared with OECD nations. According to recent official statistics, the demand for rental housing and subsidised healthcare have risen. Although the government deliberately avoided setting a poverty line, more than 50% of the households earn below half the median income of S$4,232. The claim that Singapore is an equal society is just far fetch.\\n\\n“The 4G leaders should marshall the spirit and energy of these young Singaporeans. To do so, they must grow with the people they represent, be open to diverse views and ideas and have a clear purpose and unity of action, said the President.”\\n\\nPresident Halimah Yacob then called for the PAP government to be open to diverse views and ideas, which is by far the most hypocritical section in her speech. One just need to be reminded of the Select Committee on Online Falsehoods, where Law Minister K Shanmugam smacked down criticisms and even began a barrage of personal attacks after the public hearing. Social media companies like Facebook were accused of propagating fake news and an Oxford historian was smeared as a Holocaust denier. How open is that.\\n\\nYou may read the rest of Halimah Yacob’s garbage below:\\n\\n“We may be tempted not to go for bold changes, but instead be content to tweak things at the margins. The new leaders may feel that there is more to lose now, given that Singapore is at a more advanced stage of development. That would be the wrong approach. Be careful of settling for mediocrity, the country has a lot going for it as a vibrant node in Asia and a harmonious multi-cultural society. We need to keep alive the spirit of our pioneers and be constantly driven to do better, with each generation surpassing the previous.”\\n\\nState media Straits Times is controlled by the government.\\n'\n"
     ]
    }
   ],
   "source": [
    "print(repr(article_text))"
   ]
  },
  {
   "cell_type": "code",
   "execution_count": 4,
   "metadata": {},
   "outputs": [],
   "source": [
    "# regarding tags: [[\"A\"], [\"B\", \"C\"]] - contains A and (B or C)\n",
    "controversies_sg = [\n",
    "    {'ID' : 0,\n",
    "     'claim' : 'Ministers do not deserve the salaries they earn.',\n",
    "     'tags' : [['minister', 'Lee Hsien Loong'], ['million'], ['salaries', 'earn']],\n",
    "     'quora' : 'https://www.quora.com/Why-are-the-salaries-of-cabinet-ministers-so-high-in-Singapore'\n",
    "    },\n",
    "    {'ID' : 1,\n",
    "     'claim' : 'President Halimah is a puppet.',\n",
    "     'tags' : [['Halimah'], ['puppet', 'powerless']],\n",
    "     'quora' : 'https://www.quora.com/Is-the-President-of-Singapore-merely-a-puppet'\n",
    "    },\n",
    "    {'ID' : 2,\n",
    "     'claim' : 'Halimah Yacob changed her race to qualify for presidency.',\n",
    "     'tags' : [['Halimah'], ['race', 'president'], ['Indian', 'Malay']],\n",
    "     'quora' : 'https://www.quora.com/Is-it-true-that-Singaporean-MP-Mdm-Halimah-Yacob-is-born-an-Indian-Singaporean-but-is-now-standing-as-a-Malay-presidential-candidate'\n",
    "    },\n",
    "    {'ID' : 3,\n",
    "     'claim' : 'Crony capitalism is a problem in Singapore.',\n",
    "     'tags' : [['crony'], ['Singapore', 'PAP', 'Lee Hsien Loong']],\n",
    "     'quora' : 'https://www.quora.com/How-serious-is-Singapores-crony-capitalism-the-tendency-for-entities-related-to-the-ruling-party-to-be-favoured-over-in-the-bidding-for-government-contracts'\n",
    "    },\n",
    "    {'ID' : 4,\n",
    "     'claim' : 'The influx of foreign talent has depressed wages.',\n",
    "     'tags' : [['foreign talent', 'FT'], ['steal', 'depress']],\n",
    "     'quora' : 'https://www.quora.com/How-serious-is-Singapores-crony-capitalism-the-tendency-for-entities-related-to-the-ruling-party-to-be-favoured-over-in-the-bidding-for-government-contracts'\n",
    "    },\n",
    "    {'ID' : 5,\n",
    "     'claim' : 'Ho Ching should not be the CEO of Temasek Holdings.',\n",
    "     'tags' : [['Ho Ching'], ['Temasek'], ['debt', 'lose', 'Lee Hsien Loong']],\n",
    "     'quora' : 'https://www.quora.com/unanswered/Was-the-appointment-of-Ho-Ching-as-the-CEO-of-Temasek-Holdings-fair-and-has-she-been-effective-at-her-job'\n",
    "    },\n",
    "    {'ID' : 6,\n",
    "     'claim' : 'The government has run out of CPF funds.',\n",
    "     'tags' : [['CPF'], ['lost']],\n",
    "     'quora' : 'https://www.quora.com/Where-is-the-evidence-to-the-accusations-that-the-Singapore-government-lost-all-the-money-in-our-CPF-in-overseas-investments'\n",
    "    },\n",
    "    {'ID' : 7,\n",
    "     'claim' : 'The Government has consistently lost money in investments.',\n",
    "     'tags' : [['GIC', 'MAS', 'CPF'], ['lost']],\n",
    "     'quora' : 'https://www.quora.com/Where-is-the-evidence-to-the-accusations-that-the-Singapore-government-lost-all-the-money-in-our-CPF-in-overseas-investments'\n",
    "    },\n",
    "    {'ID' : 8,\n",
    "     'claim' : 'CPF interest rates are unfairly low.',\n",
    "     'tags' : [['CPF'], ['interest'], ['low']],\n",
    "     'quora' : 'https://www.quora.com/Are-the-interest-rates-of-the-Singapore-CPF-really-unfairly-low'\n",
    "    },\n",
    "    {'ID' : 9,\n",
    "     'claim' : 'The Straits Times is controlled by the government.',\n",
    "     'tags' : [['state media','government', 'control'], ['Straits Times']],\n",
    "     'quora' : 'https://www.quora.com/unanswered/How-much-control-does-the-government-have-over-The-Straits-Times'\n",
    "    }\n",
    "]"
   ]
  },
  {
   "cell_type": "code",
   "execution_count": 5,
   "metadata": {},
   "outputs": [
    {
     "name": "stdout",
     "output_type": "stream",
     "text": [
      "[{'quora': 'https://www.quora.com/Why-are-the-salaries-of-cabinet-ministers-so-high-in-Singapore', 'tags_lemma': [['minister', 'lee hsien loong'], ['million'], ['salary', 'earn']], 'ID': 0, 'tags': [['minister', 'Lee Hsien Loong'], ['million'], ['salaries', 'earn']], 'claim': 'Ministers do not deserve the salaries they earn.'}, {'quora': 'https://www.quora.com/Is-the-President-of-Singapore-merely-a-puppet', 'tags_lemma': [['halimah'], ['puppet', 'powerless']], 'ID': 1, 'tags': [['Halimah'], ['puppet', 'powerless']], 'claim': 'President Halimah is a puppet.'}, {'quora': 'https://www.quora.com/Is-it-true-that-Singaporean-MP-Mdm-Halimah-Yacob-is-born-an-Indian-Singaporean-but-is-now-standing-as-a-Malay-presidential-candidate', 'tags_lemma': [['halimah'], ['race', 'president'], ['indian', 'malay']], 'ID': 2, 'tags': [['Halimah'], ['race', 'president'], ['Indian', 'Malay']], 'claim': 'Halimah Yacob changed her race to qualify for presidency.'}, {'quora': 'https://www.quora.com/How-serious-is-Singapores-crony-capitalism-the-tendency-for-entities-related-to-the-ruling-party-to-be-favoured-over-in-the-bidding-for-government-contracts', 'tags_lemma': [['crony'], ['singapore', 'pap', 'lee hsien loong']], 'ID': 3, 'tags': [['crony'], ['Singapore', 'PAP', 'Lee Hsien Loong']], 'claim': 'Crony capitalism is a problem in Singapore.'}, {'quora': 'https://www.quora.com/How-serious-is-Singapores-crony-capitalism-the-tendency-for-entities-related-to-the-ruling-party-to-be-favoured-over-in-the-bidding-for-government-contracts', 'tags_lemma': [['foreign talent', 'ft'], ['steal', 'depress']], 'ID': 4, 'tags': [['foreign talent', 'FT'], ['steal', 'depress']], 'claim': 'The influx of foreign talent has depressed wages.'}, {'quora': 'https://www.quora.com/unanswered/Was-the-appointment-of-Ho-Ching-as-the-CEO-of-Temasek-Holdings-fair-and-has-she-been-effective-at-her-job', 'tags_lemma': [['ho ching'], ['temasek'], ['debt', 'lose', 'lee hsien loong']], 'ID': 5, 'tags': [['Ho Ching'], ['Temasek'], ['debt', 'lose', 'Lee Hsien Loong']], 'claim': 'Ho Ching should not be the CEO of Temasek Holdings.'}, {'quora': 'https://www.quora.com/Where-is-the-evidence-to-the-accusations-that-the-Singapore-government-lost-all-the-money-in-our-CPF-in-overseas-investments', 'tags_lemma': [['cpf'], ['lose']], 'ID': 6, 'tags': [['CPF'], ['lost']], 'claim': 'The government has run out of CPF funds.'}, {'quora': 'https://www.quora.com/Where-is-the-evidence-to-the-accusations-that-the-Singapore-government-lost-all-the-money-in-our-CPF-in-overseas-investments', 'tags_lemma': [['gic', 'mas', 'cpf'], ['lose']], 'ID': 7, 'tags': [['GIC', 'MAS', 'CPF'], ['lost']], 'claim': 'The Government has consistently lost money in investments.'}, {'quora': 'https://www.quora.com/Are-the-interest-rates-of-the-Singapore-CPF-really-unfairly-low', 'tags_lemma': [['cpf'], ['interest'], ['low']], 'ID': 8, 'tags': [['CPF'], ['interest'], ['low']], 'claim': 'CPF interest rates are unfairly low.'}, {'quora': 'https://www.quora.com/unanswered/How-much-control-does-the-government-have-over-The-Straits-Times', 'tags_lemma': [['state medium', 'government', 'control'], ['straits time']], 'ID': 9, 'tags': [['state media', 'government', 'control'], ['Straits Times']], 'claim': 'The Straits Times is controlled by the government.'}]\n"
     ]
    }
   ],
   "source": [
    "controversies_sg_ = []\n",
    "for claim in controversies_sg:\n",
    "    tags_lemma = []\n",
    "    for tag in claim['tags']:\n",
    "        \n",
    "        tag_lemma = []\n",
    "        for item in tag:\n",
    "            tag_lemma.append(\" \".join([token.lemma_ for token in nlp(item)]))\n",
    "        tags_lemma.append(tag_lemma)\n",
    "        \n",
    "    claim['tags_lemma'] = tags_lemma\n",
    "    controversies_sg_.append(claim)\n",
    "    \n",
    "print(controversies_sg_)"
   ]
  },
  {
   "cell_type": "code",
   "execution_count": 6,
   "metadata": {
    "scrolled": false
   },
   "outputs": [],
   "source": [
    "def parse_text_input(article_text):\n",
    "    \n",
    "    document = nlp(article_text)\n",
    "    sent_text = list(document.sents)\n",
    "\n",
    "    detected = []\n",
    "\n",
    "    for sentence in sent_text:\n",
    "        doc = sentence\n",
    "        sent_lemmas = \" \".join([token.lemma_ for token in doc])\n",
    "\n",
    "        for claim in controversies_sg:\n",
    "\n",
    "            contains_all_tags = True\n",
    "\n",
    "            for tag in claim[\"tags_lemma\"]:\n",
    "\n",
    "                contains_item = False\n",
    "                for item in tag:\n",
    "                    if item in sent_lemmas:\n",
    "                        contains_item = True\n",
    "                if not contains_item:\n",
    "                    contains_all_tags = False\n",
    "\n",
    "            if contains_all_tags:\n",
    "                claim_detected = {}\n",
    "                claim_detected[\"claim\"] = claim[\"claim\"]\n",
    "                claim_detected[\"quora\"] = claim[\"quora\"]\n",
    "                claim_detected[\"sentence\"] = sentence\n",
    "                detected.append(claim_detected)\n",
    "                print(claim[\"claim\"])\n",
    "                print(sentence)\n",
    "                print()\n",
    "                \n",
    "    return detected"
   ]
  },
  {
   "cell_type": "code",
   "execution_count": 7,
   "metadata": {},
   "outputs": [
    {
     "name": "stdout",
     "output_type": "stream",
     "text": [
      "Halimah Yacob changed her race to qualify for presidency.\n",
      "With her eyes glued on the scripts, Indian-turned-Malay President Halimah Yacob obediently read on live TV her first speech in Parliament as Singapore President.\n",
      "\n",
      "Crony capitalism is a problem in Singapore.\n",
      "The ignorant PAP crony probably knew nothing about Singaporean elderly not being able to retire because their CPF money are stuck with Temasek Holdings and GIC.\n",
      "\n",
      "CPF interest rates are unfairly low.\n",
      "When compared to other private and public superannuation and retirement funds, Singapore’s CPF system have the lowest interest rate return of 2.5%.\n",
      "\n",
      "The Straits Times is controlled by the government.\n",
      "”\n",
      "\n",
      "State media Straits Times is controlled by the government.\n",
      "\n",
      "\n"
     ]
    },
    {
     "data": {
      "text/plain": [
       "[{'claim': 'Halimah Yacob changed her race to qualify for presidency.',\n",
       "  'quora': 'https://www.quora.com/Is-it-true-that-Singaporean-MP-Mdm-Halimah-Yacob-is-born-an-Indian-Singaporean-but-is-now-standing-as-a-Malay-presidential-candidate',\n",
       "  'sentence': With her eyes glued on the scripts, Indian-turned-Malay President Halimah Yacob obediently read on live TV her first speech in Parliament as Singapore President.},\n",
       " {'claim': 'Crony capitalism is a problem in Singapore.',\n",
       "  'quora': 'https://www.quora.com/How-serious-is-Singapores-crony-capitalism-the-tendency-for-entities-related-to-the-ruling-party-to-be-favoured-over-in-the-bidding-for-government-contracts',\n",
       "  'sentence': The ignorant PAP crony probably knew nothing about Singaporean elderly not being able to retire because their CPF money are stuck with Temasek Holdings and GIC.},\n",
       " {'claim': 'CPF interest rates are unfairly low.',\n",
       "  'quora': 'https://www.quora.com/Are-the-interest-rates-of-the-Singapore-CPF-really-unfairly-low',\n",
       "  'sentence': When compared to other private and public superannuation and retirement funds, Singapore’s CPF system have the lowest interest rate return of 2.5%.},\n",
       " {'claim': 'The Straits Times is controlled by the government.',\n",
       "  'quora': 'https://www.quora.com/unanswered/How-much-control-does-the-government-have-over-The-Straits-Times',\n",
       "  'sentence': ”\n",
       "  \n",
       "  State media Straits Times is controlled by the government.}]"
      ]
     },
     "execution_count": 7,
     "metadata": {},
     "output_type": "execute_result"
    }
   ],
   "source": [
    "parse_text_input(article_text)"
   ]
  },
  {
   "cell_type": "code",
   "execution_count": null,
   "metadata": {},
   "outputs": [],
   "source": []
  },
  {
   "cell_type": "code",
   "execution_count": null,
   "metadata": {},
   "outputs": [],
   "source": []
  },
  {
   "cell_type": "code",
   "execution_count": null,
   "metadata": {},
   "outputs": [],
   "source": []
  }
 ],
 "metadata": {
  "kernelspec": {
   "display_name": "Python 3",
   "language": "python",
   "name": "python3"
  },
  "language_info": {
   "codemirror_mode": {
    "name": "ipython",
    "version": 3
   },
   "file_extension": ".py",
   "mimetype": "text/x-python",
   "name": "python",
   "nbconvert_exporter": "python",
   "pygments_lexer": "ipython3",
   "version": "3.5.3"
  }
 },
 "nbformat": 4,
 "nbformat_minor": 2
}
